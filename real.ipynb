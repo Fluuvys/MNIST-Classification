{
 "cells": [
  {
   "cell_type": "markdown",
   "id": "31b784a4",
   "metadata": {},
   "source": [
    "## CNN MNIST"
   ]
  },
  {
   "cell_type": "code",
   "execution_count": 4,
   "id": "9916a70e",
   "metadata": {},
   "outputs": [],
   "source": [
    "import numpy as np\n",
    "import matplotlib.pyplot as plt\n",
    "from tensorflow import keras"
   ]
  },
  {
   "cell_type": "code",
   "execution_count": 5,
   "id": "17e9434b",
   "metadata": {},
   "outputs": [
    {
     "name": "stdout",
     "output_type": "stream",
     "text": [
      "Downloading data from https://storage.googleapis.com/tensorflow/tf-keras-datasets/mnist.npz\n",
      "11490434/11490434 [==============================] - 2s 0us/step\n"
     ]
    }
   ],
   "source": [
    "(x_train, y_train), (x_test, y_test) = keras.datasets.mnist.load_data()"
   ]
  },
  {
   "cell_type": "code",
   "execution_count": 6,
   "id": "a52024b4",
   "metadata": {},
   "outputs": [
    {
     "data": {
      "text/plain": [
       "<matplotlib.image.AxesImage at 0x2234f042e50>"
      ]
     },
     "execution_count": 6,
     "metadata": {},
     "output_type": "execute_result"
    },
    {
     "data": {
      "image/png": "[encoded data removed]",
      "text/plain": [
       "<Figure size 640x480 with 1 Axes>"
      ]
     },
     "metadata": {},
     "output_type": "display_data"
    }
   ],
   "source": [
    "plt.imshow(x_train[1])"
   ]
  },
  {
   "cell_type": "code",
   "execution_count": 7,
   "id": "9d03b592",
   "metadata": {},
   "outputs": [
    {
     "name": "stdout",
     "output_type": "stream",
     "text": [
      "(28, 28)\n",
      "x_train: (60000, 28, 28)\n",
      "y_train: (60000,)\n",
      "x_test (10000, 28, 28)\n"
     ]
    }
   ],
   "source": [
    "print(x_train[1].shape)\n",
    "print(\"x_train:\",x_train.shape)\n",
    "print(\"y_train:\", y_train.shape)\n",
    "print(\"x_test\", x_test.shape)"
   ]
  },
  {
   "cell_type": "code",
   "execution_count": 8,
   "id": "1402372d",
   "metadata": {},
   "outputs": [
    {
     "name": "stdout",
     "output_type": "stream",
     "text": [
      "(60000, 28, 28, 1) (10000, 28, 28, 1)\n"
     ]
    }
   ],
   "source": [
    "x_train = np.reshape(x_train, (-1,28,28,1))\n",
    "x_test = np.reshape(x_test, (-1,28,28,1))\n",
    "print(x_train.shape, x_test.shape)"
   ]
  },
  {
   "cell_type": "code",
   "execution_count": 9,
   "id": "c2cdd4e3",
   "metadata": {},
   "outputs": [],
   "source": [
    "x_train = x_train/255\n",
    "x_test = x_test/255"
   ]
  },
  {
   "cell_type": "code",
   "execution_count": 10,
   "id": "269d3a4c",
   "metadata": {},
   "outputs": [
    {
     "data": {
      "text/plain": [
       "array([5, 0, 4, ..., 5, 6, 8], dtype=uint8)"
      ]
     },
     "execution_count": 10,
     "metadata": {},
     "output_type": "execute_result"
    }
   ],
   "source": [
    "y_train"
   ]
  },
  {
   "cell_type": "code",
   "execution_count": 11,
   "id": "a5b8da52",
   "metadata": {},
   "outputs": [
    {
     "data": {
      "text/plain": [
       "(60000,)"
      ]
     },
     "execution_count": 11,
     "metadata": {},
     "output_type": "execute_result"
    }
   ],
   "source": [
    "y_train.shape"
   ]
  },
  {
   "cell_type": "code",
   "execution_count": 12,
   "id": "b1a8b58a",
   "metadata": {},
   "outputs": [
    {
     "name": "stdout",
     "output_type": "stream",
     "text": [
      "[[0. 0. 0. 0.]\n",
      " [0. 0. 0. 0.]\n",
      " [0. 0. 0. 0.]\n",
      " [0. 0. 0. 0.]\n",
      " [0. 0. 0. 0.]\n",
      " [0. 0. 0. 0.]\n",
      " [0. 0. 0. 0.]\n",
      " [0. 0. 0. 0.]\n",
      " [0. 0. 0. 0.]\n",
      " [0. 0. 0. 0.]]\n"
     ]
    }
   ],
   "source": [
    "print(np.zeros((10,4)))"
   ]
  },
  {
   "cell_type": "code",
   "execution_count": 13,
   "id": "2a8bc3f2",
   "metadata": {},
   "outputs": [
    {
     "name": "stdout",
     "output_type": "stream",
     "text": [
      "[[0. 0. 0. ... 0. 0. 0.]\n",
      " [1. 0. 0. ... 0. 0. 0.]\n",
      " [0. 0. 0. ... 0. 0. 0.]\n",
      " ...\n",
      " [0. 0. 0. ... 0. 0. 0.]\n",
      " [0. 0. 0. ... 0. 0. 0.]\n",
      " [0. 0. 0. ... 0. 1. 0.]]\n",
      "8 [0. 0. 0. 0. 0. 0. 0. 0. 1. 0.]\n"
     ]
    }
   ],
   "source": [
    "def one_hot_encode(y, class_num):\n",
    "    ohs = np.zeros((y.shape[0], class_num))\n",
    "    for i, val in enumerate(y):\n",
    "        ohs[i][val] +=1\n",
    "    return ohs\n",
    "\n",
    "print(one_hot_encode(y_train, 10))\n",
    "print(y_train[-1], one_hot_encode(y_train,10)[-1])\n",
    "\n",
    "\n",
    "y_train = one_hot_encode(y_train,10)\n",
    "y_test = one_hot_encode(y_test, 10)"
   ]
  },
  {
   "cell_type": "code",
   "execution_count": 14,
   "id": "c6365047",
   "metadata": {},
   "outputs": [],
   "source": [
    "model = keras.Sequential([\n",
    "    keras.layers.Conv2D(32, kernel_size = 3, activation=\"relu\", input_shape=(28,28,1)),\n",
    "    keras.layers.MaxPool2D(pool_size=2, strides=1),\n",
    "    keras.layers.Conv2D(64, kernel_size = 3, activation=\"relu\"),\n",
    "    keras.layers.Flatten(),\n",
    "    keras.layers.Dense(1024, activation=\"relu\"),\n",
    "    keras.layers.Dense(10, activation=\"softmax\")\n",
    "])"
   ]
  },
  {
   "cell_type": "code",
   "execution_count": 15,
   "id": "d454eabc",
   "metadata": {},
   "outputs": [
    {
     "name": "stdout",
     "output_type": "stream",
     "text": [
      "Num GPUs Available: 1\n",
      "[PhysicalDevice(name='/physical_device:GPU:0', device_type='GPU')]\n"
     ]
    }
   ],
   "source": [
    "import tensorflow as tf\n",
    "print(\"Num GPUs Available:\", len(tf.config.list_physical_devices('GPU')))\n",
    "print(tf.config.list_physical_devices('GPU'))\n"
   ]
  },
  {
   "cell_type": "code",
   "execution_count": 16,
   "id": "0b9b20db",
   "metadata": {},
   "outputs": [
    {
     "name": "stdout",
     "output_type": "stream",
     "text": [
      "Epoch 1/5\n",
      "600/600 [==============================] - 14s 13ms/step - loss: 0.1116 - accuracy: 0.9669 - val_loss: 0.0379 - val_accuracy: 0.9866\n",
      "Epoch 2/5\n",
      "600/600 [==============================] - 7s 12ms/step - loss: 0.0314 - accuracy: 0.9901 - val_loss: 0.0496 - val_accuracy: 0.9847\n",
      "Epoch 3/5\n",
      "600/600 [==============================] - 7s 12ms/step - loss: 0.0191 - accuracy: 0.9938 - val_loss: 0.0473 - val_accuracy: 0.9844\n",
      "Epoch 4/5\n",
      "600/600 [==============================] - 7s 12ms/step - loss: 0.0118 - accuracy: 0.9961 - val_loss: 0.0367 - val_accuracy: 0.9894\n",
      "Epoch 5/5\n",
      "600/600 [==============================] - 7s 12ms/step - loss: 0.0101 - accuracy: 0.9967 - val_loss: 0.0396 - val_accuracy: 0.9883\n"
     ]
    },
    {
     "data": {
      "text/plain": [
       "<keras.callbacks.History at 0x22303b8fac0>"
      ]
     },
     "execution_count": 16,
     "metadata": {},
     "output_type": "execute_result"
    }
   ],
   "source": [
    "model.compile(optimizer=\"adam\",loss=\"categorical_crossentropy\",metrics=[\"accuracy\"])\n",
    "model.fit(x_train,y_train,batch_size=100,epochs=5,validation_data=(x_test,y_test))"
   ]
  },
  {
   "cell_type": "code",
   "execution_count": 17,
   "id": "8006414f",
   "metadata": {},
   "outputs": [
    {
     "name": "stdout",
     "output_type": "stream",
     "text": [
      "1875/1875 [==============================] - 6s 3ms/step - loss: 0.0075 - accuracy: 0.9977\n",
      "Training: [0.007493865676224232, 0.9976666569709778]\n",
      "313/313 [==============================] - 1s 3ms/step - loss: 0.0396 - accuracy: 0.9883\n",
      "Test: [0.03961974009871483, 0.9883000254631042]\n"
     ]
    }
   ],
   "source": [
    "print(\"Training:\", model.evaluate(x_train, y_train))\n",
    "print(\"Test:\", model.evaluate(x_test, y_test))"
   ]
  },
  {
   "cell_type": "code",
   "execution_count": null,
   "id": "cac23f4b",
   "metadata": {},
   "outputs": [],
   "source": [
    "model_2 = keras.Sequential([\n",
    "    keras.layers.Conv2D(32, kernel_size= 3, strides = 1, activation=\"relu\", input_shape = (28,28,1)),\n",
    "    keras.layers.MaxPool2D(pool_size= 2, strides = 1),\n",
    "    keras.layers.Conv2D(64, kernel_size = 3, strides = 2, activation = \"relu\"),\n",
    "    \n",
    "    keras.layers.Flatten(),\n",
    "    keras.layers.Dense(64, activation = \"relu\"), \n",
    "    keras.layers.Dense(1024, activation=\"relu\"),\n",
    "    keras.layers.Dense(10, activation = \"softmax\")\n",
    "])"
   ]
  },
  {
   "cell_type": "code",
   "execution_count": 23,
   "id": "4490d2f9",
   "metadata": {},
   "outputs": [
    {
     "name": "stdout",
     "output_type": "stream",
     "text": [
      "Epoch 1/5\n",
      "600/600 [==============================] - 3s 5ms/step - loss: 0.0159 - accuracy: 0.9948 - val_loss: 0.0698 - val_accuracy: 0.9826\n",
      "Epoch 2/5\n",
      "600/600 [==============================] - 2s 4ms/step - loss: 0.0135 - accuracy: 0.9957 - val_loss: 0.0549 - val_accuracy: 0.9866\n",
      "Epoch 3/5\n",
      "600/600 [==============================] - 2s 4ms/step - loss: 0.0078 - accuracy: 0.9974 - val_loss: 0.0609 - val_accuracy: 0.9865\n",
      "Epoch 4/5\n",
      "600/600 [==============================] - 2s 3ms/step - loss: 0.0085 - accuracy: 0.9971 - val_loss: 0.0694 - val_accuracy: 0.9864\n",
      "Epoch 5/5\n",
      "600/600 [==============================] - 2s 3ms/step - loss: 0.0093 - accuracy: 0.9969 - val_loss: 0.0607 - val_accuracy: 0.9865\n"
     ]
    },
    {
     "data": {
      "text/plain": [
       "<keras.callbacks.History at 0x2251e0c09a0>"
      ]
     },
     "execution_count": 23,
     "metadata": {},
     "output_type": "execute_result"
    }
   ],
   "source": [
    "model_2.compile(optimizer = \"adam\", loss = \"categorical_crossentropy\", metrics = [\"accuracy\"])\n",
    "model_2.fit(x_train,y_train, batch_size = 100, epochs = 5, validation_data = (x_test,y_test))"
   ]
  },
  {
   "cell_type": "code",
   "execution_count": 24,
   "id": "f91a833c",
   "metadata": {},
   "outputs": [
    {
     "name": "stdout",
     "output_type": "stream",
     "text": [
      "1875/1875 [==============================] - 6s 3ms/step - loss: 0.0059 - accuracy: 0.9980\n",
      "Training: [0.005850671790540218, 0.998033344745636]\n",
      "313/313 [==============================] - 1s 3ms/step - loss: 0.0607 - accuracy: 0.9865\n",
      "Test: [0.060722772032022476, 0.9865000247955322]\n"
     ]
    }
   ],
   "source": [
    "print(\"Training:\", model_2.evaluate(x_train, y_train))\n",
    "print(\"Test:\", model_2.evaluate(x_test, y_test))"
   ]
  },
  {
   "cell_type": "code",
   "execution_count": 25,
   "id": "57833476",
   "metadata": {},
   "outputs": [],
   "source": [
    "model_3 = keras.Sequential([\n",
    "    keras.layers.Conv2D(32, kernel_size = 3, strides = 1, activation = 'relu', input_shape = (28,28,1)),\n",
    "    keras.layers.Conv2D(64, kernel_size= 3, strides = 1, activation = \"relu\"),\n",
    "    keras.layers.MaxPool2D(pool_size=2, strides = 1 ),\n",
    "    keras.layers.Flatten(),\n",
    "    \n",
    "    keras.layers.Dense(128, activation = \"relu\"),\n",
    "    keras.layers.Dense(10, activation = \"softmax\")\n",
    "    \n",
    "])"
   ]
  },
  {
   "cell_type": "code",
   "execution_count": 29,
   "id": "a00693bd",
   "metadata": {},
   "outputs": [
    {
     "name": "stdout",
     "output_type": "stream",
     "text": [
      "Epoch 1/5\n",
      "600/600 [==============================] - 6s 9ms/step - loss: 0.0065 - accuracy: 0.9979 - val_loss: 0.0404 - val_accuracy: 0.9919\n",
      "Epoch 2/5\n",
      "600/600 [==============================] - 5s 9ms/step - loss: 0.0036 - accuracy: 0.9989 - val_loss: 0.0460 - val_accuracy: 0.9910\n",
      "Epoch 3/5\n",
      "600/600 [==============================] - 5s 9ms/step - loss: 0.0021 - accuracy: 0.9994 - val_loss: 0.0560 - val_accuracy: 0.9897\n",
      "Epoch 4/5\n",
      "600/600 [==============================] - 5s 9ms/step - loss: 0.0013 - accuracy: 0.9995 - val_loss: 0.0566 - val_accuracy: 0.9913\n",
      "Epoch 5/5\n",
      "600/600 [==============================] - 5s 9ms/step - loss: 0.0012 - accuracy: 0.9995 - val_loss: 0.0633 - val_accuracy: 0.9906\n"
     ]
    },
    {
     "data": {
      "text/plain": [
       "<keras.callbacks.History at 0x22503bab910>"
      ]
     },
     "execution_count": 29,
     "metadata": {},
     "output_type": "execute_result"
    }
   ],
   "source": [
    "model_3.compile(optimizer = \"rmsprop\", loss = \"categorical_crossentropy\", metrics = [\"accuracy\"])\n",
    "model_3.fit(x_train,y_train, batch_size = 100, epochs = 5, validation_data = (x_test,y_test))"
   ]
  },
  {
   "cell_type": "code",
   "execution_count": 30,
   "id": "ab0098ba",
   "metadata": {},
   "outputs": [
    {
     "name": "stdout",
     "output_type": "stream",
     "text": [
      "1875/1875 [==============================] - 6s 3ms/step - loss: 4.0611e-04 - accuracy: 0.9999\n",
      "Training: [0.0004061130457557738, 0.9998666644096375]\n",
      "313/313 [==============================] - 1s 3ms/step - loss: 0.0633 - accuracy: 0.9906\n",
      "Test: [0.06332983076572418, 0.9905999898910522]\n"
     ]
    }
   ],
   "source": [
    "print(\"Training:\", model_3.evaluate(x_train, y_train))\n",
    "print(\"Test:\", model_3.evaluate(x_test, y_test))"
   ]
  },
  {
   "cell_type": "markdown",
   "id": "ee0b96f3",
   "metadata": {},
   "source": [
    "### Model 3 is the best"
   ]
  }
 ],
 "metadata": {
  "kernelspec": {
   "display_name": "tf",
   "language": "python",
   "name": "python3"
  },
  "language_info": {
   "codemirror_mode": {
    "name": "ipython",
    "version": 3
   },
   "file_extension": ".py",
   "mimetype": "text/x-python",
   "name": "python",
   "nbconvert_exporter": "python",
   "pygments_lexer": "ipython3",
   "version": "3.9.23"
  }
 },
 "nbformat": 4,
 "nbformat_minor": 5
}
